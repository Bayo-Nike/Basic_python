{
 "cells": [
  {
   "cell_type": "code",
   "execution_count": 37,
   "metadata": {},
   "outputs": [
    {
     "name": "stdout",
     "output_type": "stream",
     "text": [
      "gg  {1001: ('Alice Smith', 'Savings'), 1002: ('Bob Johnson', 'Checking')}\n"
     ]
    }
   ],
   "source": [
    "# Each customer tuple contains (name, account number, account type)\n",
    "customer_1 = (\"Alice Smith\", 1001, \"Savings\")\n",
    "customer_2 = (\"Bob Johnson\", 1002, \"Checking\")\n",
    "\n",
    "# Dictionary of customers\n",
    "customers = {\n",
    "1001: (\"Alice Smith\", \"Savings\"),\n",
    "1002: (\"Bob Johnson\", \"Checking\")\n",
    "}\n",
    "print(\"gg \",customers)\n",
    "\n"
   ]
  },
  {
   "cell_type": "code",
   "execution_count": 38,
   "metadata": {},
   "outputs": [],
   "source": [
    "# Dictionary to store balances\n",
    "balances = {\n",
    "1001: 1500.0, # Alice's balance\n",
    "1002: 300.0   # Bob's balance\n",
    "}"
   ]
  },
  {
   "cell_type": "code",
   "execution_count": 39,
   "metadata": {},
   "outputs": [],
   "source": [
    "# Set of transaction types\n",
    "transaction_types = {\"deposit\", \"withdrawal\"}"
   ]
  },
  {
   "cell_type": "code",
   "execution_count": 40,
   "metadata": {},
   "outputs": [],
   "source": [
    "# Dictionary to store transaction history, with lists of\n",
    "# transactions for each customer\n",
    "\n",
    "transaction_history = {\n",
    "    1001: [{\"type\": \"deposit\", \"amount\": 500, \"date\":\"2023-01-01\"},\n",
    "        {\"type\": \"withdrawal\", \"amount\": 100, \"date\":\"2023-01-02\"}],\n",
    "    1002: [{\"type\": \"deposit\", \"amount\": 200, \"date\":\"2023-01-03\"}]\n",
    "}"
   ]
  },
  {
   "cell_type": "code",
   "execution_count": 41,
   "metadata": {},
   "outputs": [],
   "source": [
    "def add_customer(account_number, name, account_type,\n",
    "initial_balance=0.0):\n",
    "    customers[account_number] = (name, account_type)\n",
    "    balances[account_number] = initial_balance\n",
    "    transaction_history[account_number] = []\n",
    "    print(f\"Customer {name} added with account number {account_number}.\")\n",
    "\n",
    "    # add_customer(1003, \"Charlie Brown\", \"Savings\", 500)\n",
    "    # add_customer(1004, \"Dana White\", \"Checking\", 1000)"
   ]
  },
  {
   "cell_type": "code",
   "execution_count": 42,
   "metadata": {},
   "outputs": [],
   "source": [
    "def deposit(account_number, amount):\n",
    "    if account_number in balances:\n",
    "        balances[account_number] += amount\n",
    "        transaction_history[account_number].append({\"type\":\n",
    "        \"deposit\", \"amount\": amount, \"date\": \"2023-01-04\"})\n",
    "        transaction_types.add(\"deposit\")\n",
    "        print(f\"Deposited {amount} to account {account_number}. New balance: {balances[account_number]}\")\n",
    "    else:\n",
    "        print(\"Account not found.\")\n",
    "    \n",
    "        \n",
    "def withdraw(account_number, amount):\n",
    "    if account_number in balances:\n",
    "        if balances[account_number] >= amount:\n",
    "            balances[account_number]-= amount\n",
    "            transaction_history[account_number].append({\"type\":\n",
    "            \"withdrawal\", \"amount\": amount, \"date\": \"2023-01-05\"})\n",
    "            transaction_types.add(\"withdrawal\")\n",
    "            print(f\"Withdrew {amount} from account {account_number}. New balance: {balances[account_number]}\")\n",
    "        else:\n",
    "            print(\"Insufficient balance.\")\n",
    "    else:\n",
    "        print(\"Account not found.\")\n",
    "    # Deposits and Withdrawals\n",
    "    deposit(1003, 200)\n",
    "    withdraw(1004, 150)"
   ]
  },
  {
   "cell_type": "code",
   "execution_count": 36,
   "metadata": {},
   "outputs": [
    {
     "name": "stdout",
     "output_type": "stream",
     "text": [
      "-DONE--\n"
     ]
    }
   ],
   "source": [
    "def view_balance(account_number):\n",
    "    if account_number in balances:\n",
    "        print(f\"Account {account_number} balance: {balances[account_number]}\")\n",
    "    else:\n",
    "        print(\"Account not found.\")\n",
    "def view_transaction_history(account_number):\n",
    "    if account_number in transaction_history:\n",
    "        print(f\"Transaction history for account {account_number}:\")\n",
    "        for transaction in transaction_history[account_number]:\n",
    "            print(transaction)\n",
    "    else:\n",
    "        print(\"Account not found.\")\n",
    "     # View balances and transaction history\n",
    "    view_balance(1001)\n",
    "    view_transaction_history(1001)\n",
    "print(\"-DONE--\")"
   ]
  }
 ],
 "metadata": {
  "kernelspec": {
   "display_name": "Python 3",
   "language": "python",
   "name": "python3"
  },
  "language_info": {
   "codemirror_mode": {
    "name": "ipython",
    "version": 3
   },
   "file_extension": ".py",
   "mimetype": "text/x-python",
   "name": "python",
   "nbconvert_exporter": "python",
   "pygments_lexer": "ipython3",
   "version": "3.8.10"
  }
 },
 "nbformat": 4,
 "nbformat_minor": 2
}
